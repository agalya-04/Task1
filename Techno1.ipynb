{
 "cells": [
  {
   "cell_type": "code",
   "execution_count": 14,
   "id": "6dff6e4c-e810-459c-a871-2fe51526c862",
   "metadata": {},
   "outputs": [],
   "source": [
    "import pandas as pd\n",
    "import numpy as np\n",
    "import matplotlib.pyplot as plt"
   ]
  },
  {
   "cell_type": "code",
   "execution_count": 15,
   "id": "10c03e78-2481-40e5-b3d4-327a19dff2fd",
   "metadata": {},
   "outputs": [],
   "source": [
    "data_path='/Users/agaly/OneDrive/Desktop/test.csv'\n",
    "df=pd.read_csv('/Users/agaly/OneDrive/Desktop/test.csv')"
   ]
  },
  {
   "cell_type": "code",
   "execution_count": 16,
   "id": "e5842555-4672-4637-bea8-2d8c8f0cb12d",
   "metadata": {},
   "outputs": [
    {
     "name": "stdout",
     "output_type": "stream",
     "text": [
      "   PassengerId  Pclass                                          Name     Sex  \\\n",
      "0          892       3                              Kelly, Mr. James    male   \n",
      "1          893       3              Wilkes, Mrs. James (Ellen Needs)  female   \n",
      "2          894       2                     Myles, Mr. Thomas Francis    male   \n",
      "3          895       3                              Wirz, Mr. Albert    male   \n",
      "4          896       3  Hirvonen, Mrs. Alexander (Helga E Lindqvist)  female   \n",
      "\n",
      "    Age  SibSp  Parch   Ticket     Fare Cabin Embarked  \n",
      "0  34.5      0      0   330911   7.8292   NaN        Q  \n",
      "1  47.0      1      0   363272   7.0000   NaN        S  \n",
      "2  62.0      0      0   240276   9.6875   NaN        Q  \n",
      "3  27.0      0      0   315154   8.6625   NaN        S  \n",
      "4  22.0      1      1  3101298  12.2875   NaN        S  \n"
     ]
    }
   ],
   "source": [
    "print(df.head())"
   ]
  },
  {
   "cell_type": "code",
   "execution_count": 17,
   "id": "98ef4d9f-1baa-4584-a197-a2c7a843a4ad",
   "metadata": {},
   "outputs": [
    {
     "name": "stdout",
     "output_type": "stream",
     "text": [
      "PassengerId      0\n",
      "Pclass           0\n",
      "Name             0\n",
      "Sex              0\n",
      "Age             86\n",
      "SibSp            0\n",
      "Parch            0\n",
      "Ticket           0\n",
      "Fare             1\n",
      "Cabin          327\n",
      "Embarked         0\n",
      "dtype: int64\n"
     ]
    }
   ],
   "source": [
    "print(df.isnull().sum())"
   ]
  },
  {
   "cell_type": "code",
   "execution_count": 19,
   "id": "ead9e8ca-4af5-4061-99c1-229926f6f804",
   "metadata": {},
   "outputs": [
    {
     "name": "stdout",
     "output_type": "stream",
     "text": [
      "    PassengerId  Pclass                                               Name  \\\n",
      "12          904       1      Snyder, Mrs. John Pillsbury (Nelle Stevenson)   \n",
      "14          906       1  Chaffee, Mrs. Herbert Fuller (Carrie Constance...   \n",
      "24          916       1    Ryerson, Mrs. Arthur Larned (Emily Maria Borie)   \n",
      "26          918       1                       Ostby, Miss. Helene Ragnhild   \n",
      "28          920       1                            Brady, Mr. John Bertram   \n",
      "\n",
      "       Sex   Age  SibSp  Parch       Ticket      Fare            Cabin  \\\n",
      "12  female  23.0      1      0        21228   82.2667              B45   \n",
      "14  female  47.0      1      0  W.E.P. 5734   61.1750              E31   \n",
      "24  female  48.0      1      3     PC 17608  262.3750  B57 B59 B63 B66   \n",
      "26  female  22.0      0      1       113509   61.9792              B36   \n",
      "28    male  41.0      0      0       113054   30.5000              A21   \n",
      "\n",
      "   Embarked  \n",
      "12        S  \n",
      "14        S  \n",
      "24        C  \n",
      "26        C  \n",
      "28        S  \n"
     ]
    }
   ],
   "source": [
    "df_clean=df.dropna()\n",
    "print(df_clean.head())"
   ]
  }
 ],
 "metadata": {
  "kernelspec": {
   "display_name": "Python 3 (ipykernel)",
   "language": "python",
   "name": "python3"
  },
  "language_info": {
   "codemirror_mode": {
    "name": "ipython",
    "version": 3
   },
   "file_extension": ".py",
   "mimetype": "text/x-python",
   "name": "python",
   "nbconvert_exporter": "python",
   "pygments_lexer": "ipython3",
   "version": "3.12.3"
  }
 },
 "nbformat": 4,
 "nbformat_minor": 5
}
